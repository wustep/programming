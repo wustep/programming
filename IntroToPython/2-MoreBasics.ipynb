{
 "cells": [
  {
   "cell_type": "markdown",
   "metadata": {},
   "source": [
    "# More Python Basics"
   ]
  },
  {
   "cell_type": "code",
   "execution_count": 6,
   "metadata": {},
   "outputs": [
    {
     "name": "stdout",
     "output_type": "stream",
     "text": [
      "{0: 'hello world', 1: 'what the heck'}\n",
      "['hello world', 'what the heck']\n"
     ]
    }
   ],
   "source": [
    "# Dict is short for dictionary, and is a collection of key-value pairs.\n",
    "\n",
    "# While lists are often represented with square brackets, like...\n",
    "# [\"apple\", \"tree\", \"bird\"]\n",
    "# dicts are represented with curly brackets with colons..\n",
    "# {bird: 1, apple: 5, tree: 4}\n",
    "# where \"bird\" is the key and 1 is the value, and so on.\n",
    "\n",
    "phrases = {}\n",
    "\n",
    "phrases[0] = \"hello world\"\n",
    "phrases[1] = \"what the heck\"\n",
    "\n",
    "print(phrases)\n",
    "\n",
    "phrases_list = []\n",
    "phrases_list.append(\"hello world\")\n",
    "phrases_list.append(\"what the heck\")\n",
    "\n",
    "print(phrases_list)"
   ]
  },
  {
   "cell_type": "code",
   "execution_count": 10,
   "metadata": {},
   "outputs": [
    {
     "name": "stdout",
     "output_type": "stream",
     "text": [
      "['scarlet', 'grey']\n",
      "['yellow', 'blue']\n",
      "scarlet grey\n"
     ]
    }
   ],
   "source": [
    "# Direct lookup in a dict\n",
    "\n",
    "school_colors = {\"osu\": [\"scarlet\", \"grey\"], \"michigan\": [\"yellow\", \"blue\"]}\n",
    "\n",
    "print(school_colors[\"osu\"])\n",
    "print(school_colors[\"michigan\"])\n",
    "\n",
    "# Tedious lookup via list, have to loop through and look at all elements\n",
    "\n",
    "school_colors_list = [[\"osu\", \"scarlet\", \"grey\"], [\"michigan\", \"yellow\", \"blue\"]]\n",
    "\n",
    "for schools in school_colors_list:\n",
    "    if (schools[0] == \"osu\"):\n",
    "        print(schools[1] + \" \" + schools[2])"
   ]
  },
  {
   "cell_type": "code",
   "execution_count": null,
   "metadata": {},
   "outputs": [],
   "source": []
  }
 ],
 "metadata": {
  "kernelspec": {
   "display_name": "Python 3",
   "language": "python",
   "name": "python3"
  },
  "language_info": {
   "codemirror_mode": {
    "name": "ipython",
    "version": 3
   },
   "file_extension": ".py",
   "mimetype": "text/x-python",
   "name": "python",
   "nbconvert_exporter": "python",
   "pygments_lexer": "ipython3",
   "version": "3.7.2"
  }
 },
 "nbformat": 4,
 "nbformat_minor": 2
}
