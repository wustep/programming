{
 "cells": [
  {
   "cell_type": "markdown",
   "metadata": {},
   "source": [
    "# Some basics with Python!\n",
    "\n",
    "Covered: \n",
    "- Variables, lists\n",
    "- Printing\n",
    "- Loops\n",
    "- Random\n",
    "- Input\n",
    "- Functions"
   ]
  },
  {
   "cell_type": "code",
   "execution_count": 4,
   "metadata": {},
   "outputs": [],
   "source": [
    "# This is a comment! Comments don't affect the code in any way.\n",
    "\n",
    "# This is variable assignment! Variables hold data for you ;)\n",
    "\n",
    "dog_name = 'Freddie'  # String variable\n",
    "# double or single quotes are fine\n",
    "\n",
    "# note how the variable name is \"dog_name\" and not \"DOG_NAME\" or \"dogName\"\n",
    "# this is called \"snake-case\" and is used for variables and functions in python by convention\n",
    "\n",
    "age = 9               # Int variable\n",
    "# supports negative and positive whole numbers, unbounded\n",
    "\n",
    "is_vaccinated = True  # Boolean variable\n",
    "height = 1.1          # Float variable\n",
    "birth_year = 2001\n",
    "\n",
    "\"\"\"\n",
    "This is a multi-line comment! This one isn't usually used except for documenting functions.\n",
    "\"\"\""
   ]
  },
  {
   "cell_type": "code",
   "execution_count": 61,
   "metadata": {},
   "outputs": [
    {
     "name": "stdout",
     "output_type": "stream",
     "text": [
      "Hello world\n",
      "9\n",
      "My dog's name is Freddie\n",
      "He was born in 2001\n"
     ]
    }
   ],
   "source": [
    "print(\"Hello world\")  # This is a print statement! It prints stuff to the console/terminal.\n",
    "print(age)            # We can also print variables from up there\n",
    "\n",
    "# We can also combine (aka concatenate) variables with strings here\n",
    "print(\"My dog's name is \" + dog_name) \n",
    "\n",
    "# If we use numbers we should add a str() for string here...\n",
    "print(\"He was born in \" + str(birth_year))"
   ]
  },
  {
   "cell_type": "code",
   "execution_count": 62,
   "metadata": {},
   "outputs": [
    {
     "name": "stdout",
     "output_type": "stream",
     "text": [
      "Enter a word: 5\n",
      "Your word was 5\n"
     ]
    }
   ],
   "source": [
    "# You can take inputs like this:\n",
    "\n",
    "word = input(\"Enter a word: \")\n",
    "print(\"Your word was \" + word)"
   ]
  },
  {
   "cell_type": "code",
   "execution_count": 42,
   "metadata": {},
   "outputs": [
    {
     "name": "stdout",
     "output_type": "stream",
     "text": [
      "My dog is older than 8!\n",
      "My dog is 10 or younger\n",
      "The dog is vaccinated!\n"
     ]
    }
   ],
   "source": [
    "# This is an if statement\n",
    "\n",
    "if age > 8:\n",
    "    print(\"My dog is older than 8!\")\n",
    "    \n",
    "# Notice how the statement is indented afterwards -- this is called \"blocking\"\n",
    "# If statements should always be followed with indented code.\n",
    "\n",
    "# Here's an if-elif-else block. \"elif\" stands for else if. \n",
    "\n",
    "if age > 20:\n",
    "    print(\"My dog is older than 20\")\n",
    "elif age > 10:\n",
    "    print(\"My dog is older than 10\")\n",
    "else:\n",
    "    print(\"My dog is 10 or younger\")\n",
    "    \n",
    "# We have to be precise here, we can't write \"print\" as \"PRiNT\", or \"else\" as \"elSE\", etc.\n",
    "# ALMOST everything is case-sensitive in programming\n",
    "\n",
    "\n",
    "# ifs take booleans in their condition, like..\n",
    "\n",
    "if (is_vaccinated):\n",
    "    print(\"The dog is vaccinated!\")\n",
    "    \n",
    "# or\n",
    "\n",
    "if (not(is_vaccinated)):\n",
    "    print(\"The dog is NOT vaccinated!\")\n",
    "    \n",
    "    \n",
    "# So these are all booleans\n",
    "\n",
    "is_dog_old = age > 10\n",
    "is_dog_freddie = name == \"Freddie\" # double equals is EQUALITY"
   ]
  },
  {
   "cell_type": "code",
   "execution_count": 13,
   "metadata": {},
   "outputs": [
    {
     "name": "stdout",
     "output_type": "stream",
     "text": [
      "10\n",
      "3.7.2 (default, Jan 15 2019, 18:12:47) \n",
      "[Clang 10.0.0 (clang-1000.10.44.4)]\n"
     ]
    }
   ],
   "source": [
    "# This is how we import a package. Packages provide us with useful tools!\n",
    "# We can look these up and download them. \n",
    "# Packages can be system (no download needed), installed, or local\n",
    "\n",
    "import random\n",
    "\n",
    "\n",
    "# For example, this returns a random number from 1 to 10\n",
    "# Here's the official docs! \n",
    "# https://docs.python.org/3/library/random.html\n",
    "# Sometimes those docs can be hard to read, but we'll get used to it...\n",
    "\n",
    "print(random.randint(1,10))\n",
    "\n",
    "\n",
    "# Alternatively, we can import something more specific, like this..\n",
    "# from [package] import [function or variable]\n",
    "\n",
    "from sys import version\n",
    "\n",
    "# Here we're printing the Python version...\n",
    "\n",
    "print(version)"
   ]
  },
  {
   "cell_type": "code",
   "execution_count": 18,
   "metadata": {},
   "outputs": [
    {
     "name": "stdout",
     "output_type": "stream",
     "text": [
      "[1, 2, 3, 4, 5]\n",
      "1\n",
      "[1, 2, 3, 42, 5, 6]\n",
      "The length of the list is 6\n"
     ]
    }
   ],
   "source": [
    "# Lists are another type...\n",
    "# denoted by brackets and comma-separated values\n",
    "\n",
    "new_list = [1,2,3,4,5]\n",
    "\n",
    "print(new_list)\n",
    "\n",
    "# We can access each of them like this..\n",
    "\n",
    "print(new_list[0]) # the 0th value is 1. That might get confusing..\n",
    "\n",
    "# And change the list like..\n",
    "\n",
    "new_list[3] = 42\n",
    "\n",
    "new_list.append(6)\n",
    "\n",
    "print(new_list)\n",
    "\n",
    "# We can't access new_list[9], for example, since that assignment is OUT of range though. \n",
    "# Try it yourself!\n",
    "\n",
    "print(\"The length of the list is \" + str(len(new_list)))"
   ]
  },
  {
   "cell_type": "code",
   "execution_count": 19,
   "metadata": {},
   "outputs": [
    {
     "ename": "IndexError",
     "evalue": "list assignment index out of range",
     "output_type": "error",
     "traceback": [
      "\u001b[0;31m---------------------------------------------------------------------------\u001b[0m",
      "\u001b[0;31mIndexError\u001b[0m                                Traceback (most recent call last)",
      "\u001b[0;32m<ipython-input-19-237d75d81ecd>\u001b[0m in \u001b[0;36m<module>\u001b[0;34m\u001b[0m\n\u001b[0;32m----> 1\u001b[0;31m \u001b[0mnew_list\u001b[0m\u001b[0;34m[\u001b[0m\u001b[0;36m9\u001b[0m\u001b[0;34m]\u001b[0m \u001b[0;34m=\u001b[0m \u001b[0;36m5\u001b[0m\u001b[0;34m\u001b[0m\u001b[0;34m\u001b[0m\u001b[0m\n\u001b[0m",
      "\u001b[0;31mIndexError\u001b[0m: list assignment index out of range"
     ]
    }
   ],
   "source": [
    "# This should fail..\n",
    "new_list[9] = 5"
   ]
  },
  {
   "cell_type": "code",
   "execution_count": 50,
   "metadata": {},
   "outputs": [
    {
     "name": "stdout",
     "output_type": "stream",
     "text": [
      "30\n",
      "4\n",
      "8\n",
      "12\n"
     ]
    }
   ],
   "source": [
    "# examples of working with ints\n",
    "\n",
    "a = 5\n",
    "b = 6\n",
    "c = a * b\n",
    "print(c)\n",
    "\n",
    "a -= 1\n",
    "b += 2\n",
    "print(a)\n",
    "print(b)\n",
    "\n",
    "c = b + a\n",
    "print(c)"
   ]
  },
  {
   "cell_type": "code",
   "execution_count": 32,
   "metadata": {},
   "outputs": [
    {
     "name": "stdout",
     "output_type": "stream",
     "text": [
      "bob\n",
      "False\n"
     ]
    }
   ],
   "source": [
    "# List of strings..\n",
    "\n",
    "some_words = [\"hello\", \"there\", \"my\", \"name\", \"is\", \"bob\"]\n",
    "print(some_words[5])\n",
    "\n",
    "# Check if \"bill\" is in \"some_words\"\n",
    "\n",
    "print(\"bill\" in some_words)"
   ]
  },
  {
   "cell_type": "code",
   "execution_count": 7,
   "metadata": {},
   "outputs": [
    {
     "name": "stdout",
     "output_type": "stream",
     "text": [
      "Something!!\n",
      "something!!\n",
      "Hello Bob, can I get you a Strawberry?\n"
     ]
    }
   ],
   "source": [
    "# Here's an example of defining a function and using it\n",
    "# Note the indents again...\n",
    "# Blocking shows that the stuff more indented than it \"belongs\" to the statement that indented itt\n",
    "\n",
    "def do_something():\n",
    "    print(\"Something!!\")\n",
    "    \n",
    "do_something()\n",
    "\n",
    "\n",
    "# The one above is a \"void\" function, it doesn't return anything.\n",
    "# Many functions are like the one below, they return something to the user.\n",
    "# Return \"ends\" the function and provides the caller of the function with something..\n",
    "\n",
    "def get_something():\n",
    "    return \"something!!\"\n",
    "\n",
    "print(get_something())\n",
    "\n",
    "# We can also have functions with parameters...\n",
    "\n",
    "def say_hello(name, favorite_thing):\n",
    "    print(\"Hello \" + name + \", can I get you a \" + favorite_thing + \"?\")\n",
    "    \n",
    "say_hello(\"Bob\", \"Strawberry\")\n",
    "\n",
    "\n",
    "# We typically want really good variable names that define the exact function.\n",
    "# We also don't want individual functions to be too long, and we can break them out.\n",
    "\n",
    "# Functions can be re-usable too, saving you time if you have to do something a lot\n",
    "# But even if you use them once, they're good for making the code cleaner"
   ]
  },
  {
   "cell_type": "code",
   "execution_count": null,
   "metadata": {},
   "outputs": [],
   "source": [
    "# Challenge: Magic 8 ball.\n",
    "# Ask the user for a question.\n",
    "# Give them a randomized response from some number options, e.g. \"Maybe...\", \"Not in a million years\", \"Most definitely\"\n"
   ]
  },
  {
   "cell_type": "code",
   "execution_count": 4,
   "metadata": {},
   "outputs": [],
   "source": [
    "# Challenge: Rock Paper Scissors\n",
    "# Take an input from the user of either \"scissors\", \"rock\", or \"paper\".\n",
    "# Create a randomized pick and display the pick and who won.\n",
    "\n",
    "# Example output: \n",
    "# \"Input your choice (rock, paper, scissors):\"\n",
    "# input: \"rock\"\n",
    "# \"You picked rock. I picked scissors. You win!\n"
   ]
  },
  {
   "cell_type": "code",
   "execution_count": 57,
   "metadata": {},
   "outputs": [
    {
     "name": "stdout",
     "output_type": "stream",
     "text": [
      "1\n",
      "2\n",
      "3\n",
      "4\n",
      "5\n",
      "\n",
      "h\n",
      "e\n",
      "l\n",
      "l\n",
      "o\n",
      " \n",
      "t\n",
      "h\n",
      "e\n",
      "r\n",
      "e\n",
      "\n",
      "0\n",
      "1\n",
      "2\n",
      "3\n",
      "4\n",
      "5\n",
      "6\n",
      "7\n",
      "8\n",
      "9\n"
     ]
    }
   ],
   "source": [
    "# Alright.. here's an example of some FOR loops, looping through a list and a word\n",
    "\n",
    "some_list_of_numbers = [1,2,3,4,5]\n",
    "\n",
    "for number in some_list_of_numbers:\n",
    "    print(number)\n",
    "    \n",
    "print()\n",
    "\n",
    "some_word = \"hello there\"\n",
    "\n",
    "for character in some_word:\n",
    "    print(character)\n",
    "    \n",
    "# while loops are loops that end with the condition is no longer true!\n",
    "\n",
    "print() \n",
    "\n",
    "i = 0\n",
    "while (i < 10):\n",
    "    print(i)\n",
    "    i += 1"
   ]
  },
  {
   "cell_type": "code",
   "execution_count": 58,
   "metadata": {},
   "outputs": [
    {
     "name": "stdout",
     "output_type": "stream",
     "text": [
      "Let's play hangman!\n",
      "\n",
      "Your word is ['_', '_', '_', '_', '_', '_', '_']\n",
      "You have 5 lives\n",
      "Letters tried: []\n",
      "Enter a letter: h\n",
      "\n",
      "Your word is ['h', '_', '_', '_', '_', '_', '_']\n",
      "You have 5 lives\n",
      "Letters tried: ['h']\n",
      "Enter a letter: e\n",
      "\n",
      "Your word is ['h', '_', '_', '_', '_', '_', '_']\n",
      "You have 4 lives\n",
      "Letters tried: ['h', 'e']\n",
      "Enter a letter: l\n",
      "\n",
      "Your word is ['h', '_', '_', '_', '_', '_', '_']\n",
      "You have 3 lives\n",
      "Letters tried: ['h', 'e', 'l']\n",
      "Enter a letter: l\n",
      "\n",
      "Your word is ['h', '_', '_', '_', '_', '_', '_']\n",
      "You have 2 lives\n",
      "Letters tried: ['h', 'e', 'l', 'l']\n",
      "Enter a letter: a\n",
      "\n",
      "Your word is ['h', 'a', '_', '_', '_', 'a', '_']\n",
      "You have 2 lives\n",
      "Letters tried: ['h', 'e', 'l', 'l', 'a']\n",
      "Enter a letter: n\n",
      "\n",
      "Your word is ['h', 'a', 'n', '_', '_', 'a', 'n']\n",
      "You have 2 lives\n",
      "Letters tried: ['h', 'e', 'l', 'l', 'a', 'n']\n",
      "Enter a letter: g\n",
      "\n",
      "Your word is ['h', 'a', 'n', 'g', '_', 'a', 'n']\n",
      "You have 2 lives\n",
      "Letters tried: ['h', 'e', 'l', 'l', 'a', 'n', 'g']\n",
      "Enter a letter: m\n",
      "\n",
      "Your word is: hangman\n",
      "You won with 2 left!\n"
     ]
    }
   ],
   "source": [
    "# Here's an example of HANGMAN, puting it all together.\n",
    "\n",
    "import random \n",
    "\n",
    "def get_word(): \n",
    "    \"\"\"\n",
    "    Get a word to play hangman with!\n",
    "    \"\"\"\n",
    "    some_words = [\"hippo\", \"xylophone\", \"hangman\"]\n",
    "    return random.choice(some_words)\n",
    "\n",
    "def get_current_word(word, letters_tried):\n",
    "    \"\"\"\n",
    "    Given a full word and the list of letters tried,\n",
    "    return the current word represetation, e.g. (\"__he___\").\n",
    "    \"\"\"\n",
    "    current_word = list(\"_\" * len(word)) # this is string multiplication\n",
    "    \n",
    "    # We use lists here so we can easily edit individual letters.\n",
    "    # Strings would work too with some more effort!\n",
    "    \n",
    "    # Loop through and change _ to proper letters\n",
    "    \n",
    "    i = 0\n",
    "    for letter in word:\n",
    "        if letter in letters_tried:\n",
    "            current_word[i] = letter\n",
    "        i += 1\n",
    "        \n",
    "    return str(current_word)\n",
    "    \n",
    "def is_word_done(current_word):\n",
    "    \"\"\"\n",
    "    Given the current word, return whether the word is completely guessed,\n",
    "    i.e. there are no more \"_\" in it.\n",
    "    \"\"\"\n",
    "    return not(\"_\" in current_word)\n",
    "\n",
    "def play_hangman():    \n",
    "    print(\"Let's play hangman!\")\n",
    "    \n",
    "    letters_tried = []\n",
    "    word = get_word()\n",
    "    lives = 5\n",
    "    \n",
    "    current_word = get_current_word(word, letters_tried)\n",
    "    \n",
    "    # We want to keep going until either (1) user lost or (2) user finished guessing!\n",
    "    while lives > 0 and not(is_word_done(current_word)):        \n",
    "        print()\n",
    "        print(\"Your word is \" + current_word)\n",
    "        print(\"You have \" + str(lives) + \" lives\")\n",
    "        print(\"Letters tried: \" + str(letters_tried))\n",
    "\n",
    "        try_letter = input(\"Enter a letter: \")\n",
    "        letters_tried.append(try_letter)\n",
    "        \n",
    "        if (not(try_letter in word)):\n",
    "            lives -= 1\n",
    "        \n",
    "        current_word = get_current_word(word, letters_tried)\n",
    "    \n",
    "    print()\n",
    "    if (lives == 0):\n",
    "        print(\"You lost!!\")\n",
    "    else:\n",
    "        print(\"Your word is: \" + word)\n",
    "        print(\"You won with \" + str(lives) + \" left!\")\n",
    "\n",
    "    \n",
    "play_hangman()"
   ]
  },
  {
   "cell_type": "code",
   "execution_count": null,
   "metadata": {},
   "outputs": [],
   "source": []
  }
 ],
 "metadata": {
  "kernelspec": {
   "display_name": "Python 3",
   "language": "python",
   "name": "python3"
  },
  "language_info": {
   "codemirror_mode": {
    "name": "ipython",
    "version": 3
   },
   "file_extension": ".py",
   "mimetype": "text/x-python",
   "name": "python",
   "nbconvert_exporter": "python",
   "pygments_lexer": "ipython3",
   "version": "3.7.2"
  }
 },
 "nbformat": 4,
 "nbformat_minor": 2
}
