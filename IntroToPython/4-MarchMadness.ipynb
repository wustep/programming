{
 "cells": [
  {
   "cell_type": "markdown",
   "metadata": {},
   "source": [
    "# Working with March Madness Data\n",
    "\n",
    "Working with data usually involves:\n",
    "\n",
    "1. Obtaining data\n",
    "2. Cleaning data\n",
    "3. Labeling data\n",
    "4. Analyzing data\n",
    "5. Training & running models on data\n",
    "\n",
    "All of these can be done with python. We're gonna do a few today.\n",
    "\n",
    "## Data Source\n",
    "\n",
    "1. Make a new folder in this directory called `_sources` \n",
    "2. Clone or download [this GitHub directory](https://github.com/treyhakanson/m3) into it. So you should be able to go to the `IntroToPython/_sources/m3/README.md` file accessible from the root. \n",
    "3. Optionally, explore these files and the README. In the `src` file, you can find some example code that scrapes and visualizes this data.\n",
    "\n",
    "Without doing this, the below code snippets will not work!"
   ]
  }
 ],
 "metadata": {
  "kernelspec": {
   "display_name": "Python 3",
   "language": "python",
   "name": "python3"
  },
  "language_info": {
   "codemirror_mode": {
    "name": "ipython",
    "version": 3
   },
   "file_extension": ".py",
   "mimetype": "text/x-python",
   "name": "python",
   "nbconvert_exporter": "python",
   "pygments_lexer": "ipython3",
   "version": "3.7.2"
  }
 },
 "nbformat": 4,
 "nbformat_minor": 2
}
